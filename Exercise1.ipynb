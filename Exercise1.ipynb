{
 "cells": [
  {
   "cell_type": "markdown",
   "metadata": {},
   "source": [
    "These exercises consists of questions taken from \n",
    "\n",
    "https://faculty.math.illinois.edu/~shahkar2/cbmg/numpy-exercises.html"
   ]
  },
  {
   "cell_type": "code",
   "execution_count": 1,
   "metadata": {},
   "outputs": [],
   "source": [
    "import numpy as np"
   ]
  },
  {
   "cell_type": "markdown",
   "metadata": {},
   "source": [
    "### Exercise I"
   ]
  },
  {
   "cell_type": "markdown",
   "metadata": {},
   "source": [
    "### 1. Create a uniform subdivision of the interval -1.3 to 2.5 with 64 subdivisions.\n"
   ]
  },
  {
   "cell_type": "code",
   "execution_count": 2,
   "metadata": {},
   "outputs": [],
   "source": [
    "num_list = np.linspace(-1.3,2.5,64, retstep = 'True')"
   ]
  },
  {
   "cell_type": "markdown",
   "metadata": {},
   "source": [
    "### 2. Create an array of the first 10 odd integers"
   ]
  },
  {
   "cell_type": "code",
   "execution_count": 3,
   "metadata": {},
   "outputs": [],
   "source": [
    "num_array = np.array([1,3,5,7,9,11,13,15,17,19])"
   ]
  },
  {
   "cell_type": "markdown",
   "metadata": {},
   "source": [
    "### 3. Create a 10 x 10 arrays of zeros and then \"frame\" it with a border of ones."
   ]
  },
  {
   "cell_type": "code",
   "execution_count": 2,
   "metadata": {},
   "outputs": [],
   "source": [
    "zero_array = np.zeros((10,10))"
   ]
  },
  {
   "cell_type": "code",
   "execution_count": 3,
   "metadata": {},
   "outputs": [
    {
     "data": {
      "text/plain": [
       "array([[1., 1., 1., 1., 1., 1., 1., 1., 1., 1.],\n",
       "       [0., 0., 0., 0., 0., 0., 0., 0., 0., 0.],\n",
       "       [0., 0., 0., 0., 0., 0., 0., 0., 0., 0.],\n",
       "       [0., 0., 0., 0., 0., 0., 0., 0., 0., 0.],\n",
       "       [0., 0., 0., 0., 0., 0., 0., 0., 0., 0.],\n",
       "       [0., 0., 0., 0., 0., 0., 0., 0., 0., 0.],\n",
       "       [0., 0., 0., 0., 0., 0., 0., 0., 0., 0.],\n",
       "       [0., 0., 0., 0., 0., 0., 0., 0., 0., 0.],\n",
       "       [0., 0., 0., 0., 0., 0., 0., 0., 0., 0.],\n",
       "       [0., 0., 0., 0., 0., 0., 0., 0., 0., 0.],\n",
       "       [0., 0., 0., 0., 0., 0., 0., 0., 0., 0.],\n",
       "       [1., 1., 1., 1., 1., 1., 1., 1., 1., 1.]])"
      ]
     },
     "execution_count": 3,
     "metadata": {},
     "output_type": "execute_result"
    }
   ],
   "source": [
    "horizontal_insert = np.insert(zero_array, [0,10], np.ones(10), axis = 0)\n",
    "horizontal_insert"
   ]
  },
  {
   "cell_type": "code",
   "execution_count": 4,
   "metadata": {},
   "outputs": [
    {
     "data": {
      "text/plain": [
       "array([[1., 1., 1., 1., 1., 1., 1., 1., 1., 1., 1., 1.],\n",
       "       [1., 0., 0., 0., 0., 0., 0., 0., 0., 0., 0., 1.],\n",
       "       [1., 0., 0., 0., 0., 0., 0., 0., 0., 0., 0., 1.],\n",
       "       [1., 0., 0., 0., 0., 0., 0., 0., 0., 0., 0., 1.],\n",
       "       [1., 0., 0., 0., 0., 0., 0., 0., 0., 0., 0., 1.],\n",
       "       [1., 0., 0., 0., 0., 0., 0., 0., 0., 0., 0., 1.],\n",
       "       [1., 0., 0., 0., 0., 0., 0., 0., 0., 0., 0., 1.],\n",
       "       [1., 0., 0., 0., 0., 0., 0., 0., 0., 0., 0., 1.],\n",
       "       [1., 0., 0., 0., 0., 0., 0., 0., 0., 0., 0., 1.],\n",
       "       [1., 0., 0., 0., 0., 0., 0., 0., 0., 0., 0., 1.],\n",
       "       [1., 0., 0., 0., 0., 0., 0., 0., 0., 0., 0., 1.],\n",
       "       [1., 1., 1., 1., 1., 1., 1., 1., 1., 1., 1., 1.]])"
      ]
     },
     "execution_count": 4,
     "metadata": {},
     "output_type": "execute_result"
    }
   ],
   "source": [
    "array_of_ones = np.ones((12,1))\n",
    "sidewise_insert = np.concatenate((array_of_ones, horizontal_insert, array_of_ones), axis = 1)\n",
    "sidewise_insert"
   ]
  },
  {
   "cell_type": "code",
   "execution_count": 5,
   "metadata": {},
   "outputs": [
    {
     "data": {
      "text/plain": [
       "array([[1., 1., 1., 1., 1., 1., 1., 1., 1., 1., 1., 1.],\n",
       "       [1., 0., 0., 0., 0., 0., 0., 0., 0., 0., 0., 1.],\n",
       "       [1., 0., 0., 0., 0., 0., 0., 0., 0., 0., 0., 1.],\n",
       "       [1., 0., 0., 0., 0., 0., 0., 0., 0., 0., 0., 1.],\n",
       "       [1., 0., 0., 0., 0., 0., 0., 0., 0., 0., 0., 1.],\n",
       "       [1., 0., 0., 0., 0., 0., 0., 0., 0., 0., 0., 1.],\n",
       "       [1., 0., 0., 0., 0., 0., 0., 0., 0., 0., 0., 1.],\n",
       "       [1., 0., 0., 0., 0., 0., 0., 0., 0., 0., 0., 1.],\n",
       "       [1., 0., 0., 0., 0., 0., 0., 0., 0., 0., 0., 1.],\n",
       "       [1., 0., 0., 0., 0., 0., 0., 0., 0., 0., 0., 1.],\n",
       "       [1., 0., 0., 0., 0., 0., 0., 0., 0., 0., 0., 1.],\n",
       "       [1., 1., 1., 1., 1., 1., 1., 1., 1., 1., 1., 1.]])"
      ]
     },
     "execution_count": 5,
     "metadata": {},
     "output_type": "execute_result"
    }
   ],
   "source": [
    "next_method = np.insert(horizontal_insert, [0,10], array_of_ones, axis = 1)\n",
    "next_method"
   ]
  },
  {
   "cell_type": "markdown",
   "metadata": {},
   "source": [
    "### 4. Create an 8 x 8 array with a checkerboard pattern of zeros and ones using a slicing+striding approach."
   ]
  },
  {
   "cell_type": "markdown",
   "metadata": {},
   "source": [
    "One simple way of solving this without using slicing + striding approach is"
   ]
  },
  {
   "cell_type": "code",
   "execution_count": 4,
   "metadata": {},
   "outputs": [
    {
     "data": {
      "text/plain": [
       "array([[1., 0., 1., 0., 1., 0., 1., 0.],\n",
       "       [0., 1., 0., 1., 0., 1., 0., 1.],\n",
       "       [1., 0., 1., 0., 1., 0., 1., 0.],\n",
       "       [0., 1., 0., 1., 0., 1., 0., 1.],\n",
       "       [1., 0., 1., 0., 1., 0., 1., 0.],\n",
       "       [0., 1., 0., 1., 0., 1., 0., 1.],\n",
       "       [1., 0., 1., 0., 1., 0., 1., 0.],\n",
       "       [0., 1., 0., 1., 0., 1., 0., 1.]])"
      ]
     },
     "execution_count": 4,
     "metadata": {},
     "output_type": "execute_result"
    }
   ],
   "source": [
    "A = np.eye(2)\n",
    "\n",
    "B = np.hstack((A, A, A, A))\n",
    "\n",
    "C = np.vstack((B, B, B, B))\n",
    "\n",
    "C"
   ]
  },
  {
   "cell_type": "markdown",
   "metadata": {},
   "source": [
    "### Exercise II"
   ]
  },
  {
   "cell_type": "markdown",
   "metadata": {},
   "source": [
    "### 1.  Try using the dot function on a vector-vector, matrix-vector and matrix-matrix example. (This may seem             simple but it's good to see how the results differ in each case.)\n"
   ]
  },
  {
   "cell_type": "code",
   "execution_count": 6,
   "metadata": {},
   "outputs": [],
   "source": [
    "numpy_row_vector = np.array([3,7,4])\n",
    "numpy_matrix = np.array([[1, 2],[3,4]])"
   ]
  },
  {
   "cell_type": "markdown",
   "metadata": {},
   "source": [
    "####  i) dot function on Vector-vector  (It gives simple inner product/scalar product of two vectors)"
   ]
  },
  {
   "cell_type": "code",
   "execution_count": 11,
   "metadata": {},
   "outputs": [
    {
     "data": {
      "text/plain": [
       "74"
      ]
     },
     "execution_count": 11,
     "metadata": {},
     "output_type": "execute_result"
    }
   ],
   "source": [
    "np.dot(numpy_row_vector, numpy_row_vector)"
   ]
  },
  {
   "cell_type": "markdown",
   "metadata": {},
   "source": [
    "####  ii) dot function on matrix-vector  (As the dimensions do not align, dot product of  above matrix and vector gives error)"
   ]
  },
  {
   "cell_type": "code",
   "execution_count": 12,
   "metadata": {},
   "outputs": [
    {
     "ename": "ValueError",
     "evalue": "shapes (2,2) and (3,) not aligned: 2 (dim 1) != 3 (dim 0)",
     "output_type": "error",
     "traceback": [
      "\u001b[0;31m---------------------------------------------------------------------------\u001b[0m",
      "\u001b[0;31mValueError\u001b[0m                                Traceback (most recent call last)",
      "\u001b[0;32m<ipython-input-12-d7fed502b59e>\u001b[0m in \u001b[0;36m<module>\u001b[0;34m()\u001b[0m\n\u001b[0;32m----> 1\u001b[0;31m \u001b[0mnp\u001b[0m\u001b[0;34m.\u001b[0m\u001b[0mdot\u001b[0m\u001b[0;34m(\u001b[0m\u001b[0mnumpy_matrix\u001b[0m\u001b[0;34m,\u001b[0m \u001b[0mnumpy_row_vector\u001b[0m\u001b[0;34m)\u001b[0m\u001b[0;34m\u001b[0m\u001b[0m\n\u001b[0m",
      "\u001b[0;31mValueError\u001b[0m: shapes (2,2) and (3,) not aligned: 2 (dim 1) != 3 (dim 0)"
     ]
    }
   ],
   "source": [
    "np.dot(numpy_matrix, numpy_row_vector)"
   ]
  },
  {
   "cell_type": "markdown",
   "metadata": {},
   "source": [
    "####  iii) dot function on matrix-matrix  (this is similar to matrix multiplication of two matrices)"
   ]
  },
  {
   "cell_type": "code",
   "execution_count": 13,
   "metadata": {},
   "outputs": [
    {
     "data": {
      "text/plain": [
       "array([[ 7, 10],\n",
       "       [15, 22]])"
      ]
     },
     "execution_count": 13,
     "metadata": {},
     "output_type": "execute_result"
    }
   ],
   "source": [
    "np.dot(numpy_matrix, numpy_matrix)"
   ]
  },
  {
   "cell_type": "markdown",
   "metadata": {},
   "source": [
    "### 2. Create a plot of   $ x^2\\sin(\\frac{1}{x^2}) + x $  on the interval  $[−1,1]$  using 250 points. Remember to label the axes!"
   ]
  },
  {
   "cell_type": "code",
   "execution_count": 10,
   "metadata": {},
   "outputs": [],
   "source": [
    "import matplotlib.pyplot as plt\n",
    "x = np.linspace(-1,1, 250)\n",
    "y = x**2*(np.sin(1/x**2)) + x\n"
   ]
  },
  {
   "cell_type": "code",
   "execution_count": 12,
   "metadata": {},
   "outputs": [
    {
     "data": {
      "image/png": "[encoded data removed]",
      "text/plain": [
       "<Figure size 432x288 with 1 Axes>"
      ]
     },
     "metadata": {
      "needs_background": "light"
     },
     "output_type": "display_data"
    }
   ],
   "source": [
    "plt.xlabel('X-values')\n",
    "plt.ylabel('f(x)')\n",
    "plt.plot(x,y)\n",
    "plt.show()"
   ]
  },
  {
   "cell_type": "markdown",
   "metadata": {},
   "source": [
    "### 3. Create a semilogy plot of the relative difference of  $\\frac{1}{1+x^2}$  and  $\\frac{1}{x^2}$  on the interval  $ [5,25] $ . (The relative difference of  numbers  a  and  b  is given by  $|\\frac{b-a}{b}|$ . It provides a better sense of error relative to the order of magnitudes of  a  and  b .)"
   ]
  },
  {
   "cell_type": "code",
   "execution_count": 18,
   "metadata": {},
   "outputs": [],
   "source": [
    "x = np.linspace(5,25)\n",
    "y = 1/(1+x**2)   # Relative difference of 1/(1+x^2) and 1/x^2 will be 1/(1+ x^2)"
   ]
  },
  {
   "cell_type": "code",
   "execution_count": 19,
   "metadata": {},
   "outputs": [
    {
     "data": {
      "image/png": "[encoded data removed]",
      "text/plain": [
       "<Figure size 432x288 with 1 Axes>"
      ]
     },
     "metadata": {
      "needs_background": "light"
     },
     "output_type": "display_data"
    }
   ],
   "source": [
    "plt.xlabel('X Values')\n",
    "plt.ylabel('logy')\n",
    "plt.title('Relative difference')\n",
    "plt.semilogy(x,y)\n",
    "plt.show()"
   ]
  },
  {
   "cell_type": "markdown",
   "metadata": {},
   "source": [
    "### 4. It was mentioned that many common functions are availible in vectorized form. It turns out that Scipy also has many less common, special functions. Take a look at the extensive list here! Try looking for some interesting ones you recognize (or maybe don't recognize!) and either plug in a few numbers or plot them.\n"
   ]
  },
  {
   "cell_type": "code",
   "execution_count": 24,
   "metadata": {},
   "outputs": [],
   "source": [
    "from scipy.special import gamma   # Importing 'gamma' function from scipy library\n",
    "x = np.linspace(1,5)\n",
    "y = gamma(x)"
   ]
  },
  {
   "cell_type": "code",
   "execution_count": 25,
   "metadata": {},
   "outputs": [
    {
     "data": {
      "image/png": "[encoded data removed]",
      "text/plain": [
       "<Figure size 432x288 with 1 Axes>"
      ]
     },
     "metadata": {
      "needs_background": "light"
     },
     "output_type": "display_data"
    }
   ],
   "source": [
    "plt.xlabel('X Values')\n",
    "plt.ylabel('f(x)')\n",
    "plt.title('Gamma Function')\n",
    "plt.plot(x,y)\n",
    "plt.show()"
   ]
  },
  {
   "cell_type": "markdown",
   "metadata": {},
   "source": [
    "### Exercise III"
   ]
  },
  {
   "cell_type": "markdown",
   "metadata": {},
   "source": [
    "#### 1. Evaluate  cos  and  sin  on the interval  [0,1]  and then stack the results into a tall array with rows being the  (cos(x),sin(x))  entries."
   ]
  },
  {
   "cell_type": "code",
   "execution_count": 60,
   "metadata": {},
   "outputs": [],
   "source": [
    "num = np.linspace(0,1)\n",
    "func1 = np.array(np.sin(num))\n",
    "func2 = np.array(np.cos(num))"
   ]
  },
  {
   "cell_type": "code",
   "execution_count": 65,
   "metadata": {},
   "outputs": [],
   "source": [
    "new_array = np.array((func1, func2)).T"
   ]
  },
  {
   "cell_type": "code",
   "execution_count": 68,
   "metadata": {},
   "outputs": [
    {
     "data": {
      "text/plain": [
       "array([[0.        , 1.        ],\n",
       "       [0.02040675, 0.99979176],\n",
       "       [0.04080499, 0.99916713],\n",
       "       [0.06118625, 0.99812637],\n",
       "       [0.08154202, 0.9966699 ],\n",
       "       [0.10186383, 0.99479835],\n",
       "       [0.12214321, 0.99251249],\n",
       "       [0.14237173, 0.98981326],\n",
       "       [0.16254095, 0.9867018 ],\n",
       "       [0.18264248, 0.9831794 ],\n",
       "       [0.20266794, 0.97924752],\n",
       "       [0.22260899, 0.97490781],\n",
       "       [0.24245733, 0.97016207],\n",
       "       [0.26220469, 0.96501228],\n",
       "       [0.28184285, 0.95946058],\n",
       "       [0.30136363, 0.95350929],\n",
       "       [0.3207589 , 0.94716088],\n",
       "       [0.34002057, 0.940418  ],\n",
       "       [0.35914064, 0.93328345],\n",
       "       [0.37811113, 0.92576021],\n",
       "       [0.39692415, 0.91785141],\n",
       "       [0.41557185, 0.90956035],\n",
       "       [0.43404648, 0.90089048],\n",
       "       [0.45234034, 0.8918454 ],\n",
       "       [0.47044581, 0.88242889],\n",
       "       [0.48835535, 0.87264486],\n",
       "       [0.5060615 , 0.8624974 ],\n",
       "       [0.52355688, 0.85199072],\n",
       "       [0.54083421, 0.84112921],\n",
       "       [0.5578863 , 0.82991739],\n",
       "       [0.57470604, 0.81835992],\n",
       "       [0.59128643, 0.80646163],\n",
       "       [0.60762056, 0.79422746],\n",
       "       [0.62370163, 0.78166251],\n",
       "       [0.63952294, 0.76877202],\n",
       "       [0.6550779 , 0.75556135],\n",
       "       [0.67036003, 0.742036  ],\n",
       "       [0.68536298, 0.72820161],\n",
       "       [0.70008048, 0.71406394],\n",
       "       [0.71450642, 0.69962888],\n",
       "       [0.72863478, 0.68490244],\n",
       "       [0.74245968, 0.66989075],\n",
       "       [0.75597537, 0.65460007],\n",
       "       [0.7691762 , 0.63903676],\n",
       "       [0.78205669, 0.6232073 ],\n",
       "       [0.79461147, 0.60711829],\n",
       "       [0.80683531, 0.59077643],\n",
       "       [0.81872312, 0.57418852],\n",
       "       [0.83026995, 0.55736148],\n",
       "       [0.84147098, 0.54030231]])"
      ]
     },
     "execution_count": 68,
     "metadata": {},
     "output_type": "execute_result"
    }
   ],
   "source": [
    "new_array"
   ]
  },
  {
   "cell_type": "markdown",
   "metadata": {},
   "source": [
    "#### 2. Create a random  3×5  array using the np.random.rand(3, 5) function and compute: the sum of all the entries, the sum of the rows and the sum of the columns. (Just like sorted had an optional key= argument, many Numpy functions have an optional axis= argument!)"
   ]
  },
  {
   "cell_type": "code",
   "execution_count": 83,
   "metadata": {},
   "outputs": [],
   "source": [
    "random_array = np.random.rand(3,5)\n",
    "sum_of_all_elements = random_array.sum()\n",
    "sum_of_columns = random_array.sum(axis = 0)\n",
    "sum_of_rows= random_array.sum(axis = 1)"
   ]
  },
  {
   "cell_type": "code",
   "execution_count": 84,
   "metadata": {},
   "outputs": [
    {
     "data": {
      "text/plain": [
       "array([[0.74107945, 0.10702747, 0.32330994, 0.19636357, 0.42537463],\n",
       "       [0.95039758, 0.23839181, 0.63088465, 0.04435983, 0.65794077],\n",
       "       [0.01767997, 0.74600511, 0.10868607, 0.72990986, 0.24149684]])"
      ]
     },
     "execution_count": 84,
     "metadata": {},
     "output_type": "execute_result"
    }
   ],
   "source": [
    "random_array"
   ]
  },
  {
   "cell_type": "code",
   "execution_count": 88,
   "metadata": {},
   "outputs": [
    {
     "name": "stdout",
     "output_type": "stream",
     "text": [
      "6.1589075525432495\n",
      "[1.79315505 2.52197465 1.84377785]\n",
      "[1.709157   1.0914244  1.06288066 0.97063325 1.32481224]\n"
     ]
    }
   ],
   "source": [
    "print(sum_of_all_elements)\n",
    "print(sum_of_rows)\n",
    "print(sum_of_columns)"
   ]
  },
  {
   "cell_type": "markdown",
   "metadata": {},
   "source": [
    "#### 3. Create a random  5×5  array using the function np.random.rand(5, 5). We want to sort the rows according to the second column. Try combining array slicing + argsort + indexing to do this."
   ]
  },
  {
   "cell_type": "code",
   "execution_count": 4,
   "metadata": {},
   "outputs": [],
   "source": [
    "random_array = np.random.rand(5, 5)"
   ]
  },
  {
   "cell_type": "code",
   "execution_count": 35,
   "metadata": {},
   "outputs": [
    {
     "data": {
      "text/plain": [
       "array([[0.67223721, 0.02242893, 0.79375727, 0.67427919, 0.45317739],\n",
       "       [0.88643377, 0.18715033, 0.12413572, 0.62893904, 0.05311082],\n",
       "       [0.53305845, 0.01148518, 0.04604543, 0.09015105, 0.66031822],\n",
       "       [0.39772948, 0.39942897, 0.29932851, 0.47399265, 0.27512274],\n",
       "       [0.16366351, 0.36594694, 0.91371104, 0.83506431, 0.77126888]])"
      ]
     },
     "execution_count": 35,
     "metadata": {},
     "output_type": "execute_result"
    }
   ],
   "source": [
    "random_array # A 5 by 5 random array"
   ]
  },
  {
   "cell_type": "code",
   "execution_count": 33,
   "metadata": {},
   "outputs": [
    {
     "data": {
      "text/plain": [
       "array([2, 0, 1, 4, 3])"
      ]
     },
     "execution_count": 33,
     "metadata": {},
     "output_type": "execute_result"
    }
   ],
   "source": [
    "second_col = random_array[:,1]     # Picking second column using slicing\n",
    "ord_comp = np.argsort(second_col)  # Finding the indices using 'argsort' function\n",
    "ord_comp"
   ]
  },
  {
   "cell_type": "code",
   "execution_count": 36,
   "metadata": {},
   "outputs": [
    {
     "data": {
      "text/plain": [
       "array([[0.53305845, 0.01148518, 0.04604543, 0.09015105, 0.66031822],\n",
       "       [0.67223721, 0.02242893, 0.79375727, 0.67427919, 0.45317739],\n",
       "       [0.88643377, 0.18715033, 0.12413572, 0.62893904, 0.05311082],\n",
       "       [0.16366351, 0.36594694, 0.91371104, 0.83506431, 0.77126888],\n",
       "       [0.39772948, 0.39942897, 0.29932851, 0.47399265, 0.27512274]])"
      ]
     },
     "execution_count": 36,
     "metadata": {},
     "output_type": "execute_result"
    }
   ],
   "source": [
    "sorted_array = random_array[ord_comp]    # Sorting rows of the random array above based on the sorting indices \n",
    "sorted_array                             # of the second column"
   ]
  },
  {
   "cell_type": "code",
   "execution_count": null,
   "metadata": {},
   "outputs": [],
   "source": []
  },
  {
   "cell_type": "code",
   "execution_count": null,
   "metadata": {},
   "outputs": [],
   "source": []
  }
 ],
 "metadata": {
  "kernelspec": {
   "display_name": "Python 3",
   "language": "python",
   "name": "python3"
  },
  "language_info": {
   "codemirror_mode": {
    "name": "ipython",
    "version": 3
   },
   "file_extension": ".py",
   "mimetype": "text/x-python",
   "name": "python",
   "nbconvert_exporter": "python",
   "pygments_lexer": "ipython3",
   "version": "3.7.0"
  }
 },
 "nbformat": 4,
 "nbformat_minor": 2
}
